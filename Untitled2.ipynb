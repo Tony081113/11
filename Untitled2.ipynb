{
  "nbformat": 4,
  "nbformat_minor": 0,
  "metadata": {
    "colab": {
      "provenance": [],
      "authorship_tag": "ABX9TyO5ezEyaUdeI5cr+nw+d75O",
      "include_colab_link": true
    },
    "kernelspec": {
      "name": "python3",
      "display_name": "Python 3"
    },
    "language_info": {
      "name": "python"
    }
  },
  "cells": [
    {
      "cell_type": "markdown",
      "metadata": {
        "id": "view-in-github",
        "colab_type": "text"
      },
      "source": [
        "<a href=\"https://colab.research.google.com/github/Tony081113/11/blob/main/Untitled2.ipynb\" target=\"_parent\"><img src=\"https://colab.research.google.com/assets/colab-badge.svg\" alt=\"Open In Colab\"/></a>"
      ]
    },
    {
      "cell_type": "code",
      "execution_count": 1,
      "metadata": {
        "id": "csA6OOphztlO",
        "colab": {
          "base_uri": "https://localhost:8080/",
          "height": 143
        },
        "outputId": "4462f91a-9a9e-49f5-9742-6baaa6301e3d"
      },
      "outputs": [
        {
          "output_type": "error",
          "ename": "SyntaxError",
          "evalue": "ignored",
          "traceback": [
            "\u001b[0;36m  File \u001b[0;32m\"<ipython-input-1-461ab6c267a1>\"\u001b[0;36m, line \u001b[0;32m3\u001b[0m\n\u001b[0;31m    b = {'1':'大大吉','2':'大吉','3':'普通''4':'不幸運','5':'超不幸運','6':'超超不幸運'}\u001b[0m\n\u001b[0m                                       ^\u001b[0m\n\u001b[0;31mSyntaxError\u001b[0m\u001b[0;31m:\u001b[0m invalid syntax\n"
          ]
        }
      ],
      "source": [
        "import random\n",
        "#a=int(input('要買幾張'))\n",
        "b = {'1':'大大吉','2':'大吉','3':'普通''4':'不幸運','5':'超不幸運','6':'超超不幸運'}\n",
        "#d=[]\n",
        "d=0\n",
        "#for i in range(a):\n",
        "c = random.randrange(1,6)\n",
        "#d.append(d)\n",
        "d=c\n",
        "print(b[d])"
      ]
    }
  ]
}