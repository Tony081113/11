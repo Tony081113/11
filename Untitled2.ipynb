{
  "nbformat": 4,
  "nbformat_minor": 0,
  "metadata": {
    "colab": {
      "provenance": [],
      "authorship_tag": "ABX9TyOjbXw9/g6d8/uo+XcghQFQ",
      "include_colab_link": true
    },
    "kernelspec": {
      "name": "python3",
      "display_name": "Python 3"
    },
    "language_info": {
      "name": "python"
    }
  },
  "cells": [
    {
      "cell_type": "markdown",
      "metadata": {
        "id": "view-in-github",
        "colab_type": "text"
      },
      "source": [
        "<a href=\"https://colab.research.google.com/github/Tony081113/11/blob/main/Untitled2.ipynb\" target=\"_parent\"><img src=\"https://colab.research.google.com/assets/colab-badge.svg\" alt=\"Open In Colab\"/></a>"
      ]
    },
    {
      "cell_type": "code",
      "execution_count": 22,
      "metadata": {
        "id": "csA6OOphztlO",
        "colab": {
          "base_uri": "https://localhost:8080/"
        },
        "outputId": "d66e0e64-35c0-482d-da81-a6cb6e9a452d"
      },
      "outputs": [
        {
          "output_type": "stream",
          "name": "stdout",
          "text": [
            "您今天的運勢是 不幸運 要提防 爸爸\n"
          ]
        }
      ],
      "source": [
        "import random\n",
        "#a=int(input('要買幾張'))\n",
        "b = {1:'大大吉',2:'大吉',3:'普通',4:'不幸運',5:'超不幸運',6:'超超不幸運'}\n",
        "t = {1:'爸爸',2:'媽媽',3:'妹妹'}\n",
        "#d=[]\n",
        "#for i in range(a):\n",
        "c = random.randrange(1,6)\n",
        "d=random.randrange(1,3)\n",
        "if c>3:\n",
        "  print('您今天的運勢是',b[c],'要提防',t[d])\n",
        "#d.append(d)\n",
        "else:\n",
        "  print('您今天的運勢是',b[c])"
      ]
    }
  ]
}